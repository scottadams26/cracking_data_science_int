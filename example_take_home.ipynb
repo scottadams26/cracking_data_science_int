{
  "nbformat": 4,
  "nbformat_minor": 0,
  "metadata": {
    "colab": {
      "name": "example_take_home.ipynb",
      "provenance": [],
      "collapsed_sections": []
    },
    "kernelspec": {
      "name": "python3",
      "display_name": "Python 3"
    },
    "language_info": {
      "name": "python"
    }
  },
  "cells": [
    {
      "cell_type": "markdown",
      "metadata": {
        "id": "8h2qLLTH3twt"
      },
      "source": [
        "# Example Take-Home Exercise\n",
        "\n",
        "This Python notebook provides an outline of results that could be provided in a typical take-home assessment for a data science interview. The goal of this exercise is to develop a model that can predict whether a given job candidate will leave their current job to come work for your company. That is, you need to predict whether a given candidate has a value of `1` (Looking for a job change) on the target. The datasets and associated information are taken from [Kaggle](https://www.kaggle.com/) and can be found [here](https://www.kaggle.com/uniabhi/hr-analytics-job-change-of-data-scientists). Note that there are two datasets, `aug_train.csv` and `aug_test.csv`, which are CSV files containing the training and testing sets for this exercise. \n",
        "\n",
        "Good luck!"
      ]
    },
    {
      "cell_type": "markdown",
      "metadata": {
        "id": "dkvudUqtW7C4"
      },
      "source": [
        "## Overview\n",
        "\n",
        "Here, briefly (250 words max) articulate the business problem that your model is trying to address. That is, what are we trying to accomplish and why might a model provide value to the business?"
      ]
    },
    {
      "cell_type": "markdown",
      "metadata": {
        "id": "TOhktQGn7jtR"
      },
      "source": [
        "## Import Libraries\n",
        "\n",
        "Import relevant Python libraries below. "
      ]
    },
    {
      "cell_type": "code",
      "metadata": {
        "id": "t37hCFQK_lgE"
      },
      "source": [
        ""
      ],
      "execution_count": null,
      "outputs": []
    },
    {
      "cell_type": "markdown",
      "metadata": {
        "id": "v9TLetJR7tfu"
      },
      "source": [
        "## Load Data\n",
        "\n",
        "Load the train and test CSV files here. "
      ]
    },
    {
      "cell_type": "code",
      "metadata": {
        "id": "sY5q8jhf_nqu"
      },
      "source": [
        ""
      ],
      "execution_count": null,
      "outputs": []
    },
    {
      "cell_type": "markdown",
      "metadata": {
        "id": "nLs-KelZ7zLa"
      },
      "source": [
        "## Exploratory Data Analyses\n",
        "\n",
        "Examine the distribution of relevant columns, identify features that are likely to be strong predictors of the target, and perform any visualizations that you feel are useful. At the end of this stage you may want to remove columns that are unlikely to be strong candidate predictors of the target. "
      ]
    },
    {
      "cell_type": "code",
      "metadata": {
        "id": "QdN-oDaL_oaf"
      },
      "source": [
        ""
      ],
      "execution_count": null,
      "outputs": []
    },
    {
      "cell_type": "markdown",
      "metadata": {
        "id": "-OkN3xBM73Mx"
      },
      "source": [
        "## Data Preprocessing\n",
        "\n",
        "At this step conduct necessary transformations (e.g., one-hot-encoding and scaling), handling of missing data (if relevant), and other steps to prepare the training data for a model. "
      ]
    },
    {
      "cell_type": "code",
      "metadata": {
        "id": "X9xBrM66_pGV"
      },
      "source": [
        ""
      ],
      "execution_count": null,
      "outputs": []
    },
    {
      "cell_type": "markdown",
      "metadata": {
        "id": "0LOUOYJA9Zuv"
      },
      "source": [
        "## Modeling\n",
        "\n",
        "Choose a relevant model and train on the training dataset. Perform additional steps to fine-tune your model as you see fit. Once you are satisfied with your model, evaluate the model on the testing data. Report appropriate model performance metrics and use relevant visualizations as you see fit. "
      ]
    },
    {
      "cell_type": "code",
      "metadata": {
        "id": "JnPnBqCB_pug"
      },
      "source": [
        ""
      ],
      "execution_count": null,
      "outputs": []
    },
    {
      "cell_type": "markdown",
      "metadata": {
        "id": "YdE2xBje-iYV"
      },
      "source": [
        "## Summary\n",
        "\n",
        "Provide a brief summary (250 words max) of the steps you took to obtain your final model. Be sure to explain the analytic and modeling decisions you made. For example, why did you choose a particular model and model evaluation metric? Also, link your modeling exercise back to the substantive business problem at hand. That is, do you believe the model you created has promise to provide business value or not? If not, that is alright, just explain why and think of some alternative stratigies to use machine learning to address the business problem at hand. "
      ]
    }
  ]
}
